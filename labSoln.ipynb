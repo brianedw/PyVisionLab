{
 "cells": [
  {
   "cell_type": "markdown",
   "id": "210ac544-1e9c-4a2a-add2-b31a57788114",
   "metadata": {},
   "source": [
    "## Imports"
   ]
  },
  {
   "cell_type": "code",
   "execution_count": 1,
   "id": "e97d5eea-9aed-4de8-9021-4c7a22008685",
   "metadata": {},
   "outputs": [],
   "source": [
    "import numpy as np"
   ]
  },
  {
   "cell_type": "code",
   "execution_count": 2,
   "id": "8951b2d3-7423-4167-b196-d5aa30b0278a",
   "metadata": {},
   "outputs": [],
   "source": [
    "import scipy as sp"
   ]
  },
  {
   "cell_type": "code",
   "execution_count": 3,
   "id": "0f3222aa-7b15-4e80-9be3-78def65729df",
   "metadata": {},
   "outputs": [],
   "source": [
    "from PIL import Image"
   ]
  },
  {
   "cell_type": "markdown",
   "id": "8a91b193-27d2-48a1-8698-80239d23b1b4",
   "metadata": {},
   "source": [
    "# Lab 8\n",
    "## PyVision"
   ]
  },
  {
   "cell_type": "markdown",
   "id": "1fca6faa-4481-485d-a42d-2448fe67e4f8",
   "metadata": {},
   "source": [
    "The purpose of this lab is to help you become more familiar with \"exploratory computing,\" Python, Jupyter notebooks, and even a bit of Linux.  That is a lot to bight off in 1.5 hours, so let's get started!"
   ]
  },
  {
   "cell_type": "markdown",
   "id": "338cb471-1030-4a41-a531-369cef7acda2",
   "metadata": {},
   "source": [
    "What to do:\n",
    "\n",
    "Execute each of the cells in order.  Do not skip any cells.  This lab is written such that things should work out if you start at the top and work your way down.  \n",
    "\n",
    "Along the way, you will find cells which must be corrected in order to get everything to work properly.  These will be indicated with <font color='red' size='5'>Bold Red Text</font>"
   ]
  },
  {
   "cell_type": "markdown",
   "id": "381c37f6-8e5a-4cd3-b1f8-123933d58e4b",
   "metadata": {},
   "source": [
    "## Understanding Images"
   ]
  },
  {
   "cell_type": "markdown",
   "id": "8adc5641-d193-4481-a1f3-d9a3a7abc259",
   "metadata": {},
   "source": [
    "Computer images can come in a variety of formats, but the most common is that of a dense RGB Array.  For an image which is $n+1$ pixels wide and $m+1$ pixels tall, this would look something like:\n",
    "```\n",
    "[[[r00, g00, b00], [r01, g01, b01], ... , [r0n, g0n, b0n]],\n",
    " [[r10, g10, b10], [r11, g11, b11], ... , [r1n, g1n, b1n]],\n",
    " ...\n",
    " [[rm0, gm0, bm0], [rm1, gm1, bm1], ... , [rmn, gmn, bmn]]]\n",
    " ```\n",
    " "
   ]
  },
  {
   "cell_type": "markdown",
   "id": "472cbb02-68a7-45b1-8c05-d8bcde4bf929",
   "metadata": {},
   "source": [
    "Note that the $(0, 0)$ pixels is in the upper-left hand corner.  The pixels fill in the same way you would write words on the page.  Similar to matrices, we describe the size of such a matrix by starting at the outside and working our way in.  The size of the above array would be `(m,n,3)`.\n",
    "\n",
    "Additionally, most computer monitors operate in 8-bit scale, meaning that the red value of a pixel can have values in the range [0, ..., 255].  Why 255?  Because $2^8 - 1 = 255$."
   ]
  },
  {
   "cell_type": "markdown",
   "id": "50ff3656-dc95-4fe5-8a00-2dcdb6e10a26",
   "metadata": {},
   "source": [
    "Let us begin by creating an array of zeros representing an image which is {H,W} = {150, 200}."
   ]
  },
  {
   "cell_type": "code",
   "execution_count": 12,
   "id": "d2229e1e-b0a3-440f-a224-e78b9dca87eb",
   "metadata": {},
   "outputs": [],
   "source": [
    "testImageData = np.zeros(shape=(150, 200, 3), dtype=np.uint8)"
   ]
  },
  {
   "cell_type": "code",
   "execution_count": 13,
   "id": "52aa4857-8699-4c96-92aa-7c6b38077b1a",
   "metadata": {},
   "outputs": [
    {
     "data": {
      "image/png": "[encoded data removed]",
      "text/plain": [
       "<PIL.Image.Image image mode=RGB size=200x150 at 0x28D078C2F40>"
      ]
     },
     "execution_count": 13,
     "metadata": {},
     "output_type": "execute_result"
    }
   ],
   "source": [
    "Image.fromarray(testImageData)"
   ]
  },
  {
   "cell_type": "markdown",
   "id": "5545c000-7d20-4a02-b73f-47af83cb38b5",
   "metadata": {},
   "source": [
    "We can use our Numpy indexing skills to alter this image.  For instance, let's put a red box in the middle."
   ]
  },
  {
   "cell_type": "code",
   "execution_count": 14,
   "id": "303bbcc3-9545-4b4c-9622-ee8aabff8eec",
   "metadata": {},
   "outputs": [],
   "source": [
    "testImageData[75-20:75+20, 100-20:100+20] = [255, 0, 0]"
   ]
  },
  {
   "cell_type": "code",
   "execution_count": 15,
   "id": "d5c300a9-7970-4c7c-b5da-0bbc8769585f",
   "metadata": {},
   "outputs": [
    {
     "data": {
      "image/png": "[encoded data removed]",
      "text/plain": [
       "<PIL.Image.Image image mode=RGB size=200x150 at 0x28D078C2CD0>"
      ]
     },
     "execution_count": 15,
     "metadata": {},
     "output_type": "execute_result"
    }
   ],
   "source": [
    "Image.fromarray(testImageData)"
   ]
  },
  {
   "cell_type": "markdown",
   "id": "86d0198c-0159-4b5a-b849-97e664f39208",
   "metadata": {},
   "source": [
    "Ok... your turn!  \n",
    "\n",
    "<font color='red' size='5'>Alter the cell below to:</font> \n",
    "* Put a blue box in the upper-left hand corner\n",
    "* Put a green box in the lower-right hand corner\n",
    "* Put a white box in the upper-right hand corner\n",
    "* Put a red disk in the center\n"
   ]
  },
  {
   "cell_type": "code",
   "execution_count": 39,
   "id": "ce5a3a0f-328a-465c-9880-2d2b48cf22f3",
   "metadata": {},
   "outputs": [
    {
     "data": {
      "image/png": "[encoded data removed]",
      "text/plain": [
       "<PIL.Image.Image image mode=RGB size=200x150 at 0x28D07899A30>"
      ]
     },
     "execution_count": 39,
     "metadata": {},
     "output_type": "execute_result"
    }
   ],
   "source": [
    "testImageData[:, :] = [0, 0, 0]\n",
    "testImageData[0:20, 0:20] = [0, 0, 255]\n",
    "testImageData[130:150-1, 180:200-1] = [0, 255, 0]\n",
    "testImageData[0:20, 180:200-1] = [255, 255, 255]\n",
    "for x in range(200):\n",
    "    for y in range(150):\n",
    "        if (x-100)**2 + (y-75)**2 < 20**2:\n",
    "            testImageData[y, x] = [255, 0, 0]\n",
    "Image.fromarray(testImageData)"
   ]
  },
  {
   "cell_type": "markdown",
   "id": "1ea29b11-ea56-4b47-afe0-f42a63311f2e",
   "metadata": {},
   "source": [
    "Let's see if we can look for only the red objects in the image.  We're going to do this by dividing the image up into three color channels (red, green, blue) and then calculating a color distance for each pixel.  We'll borrow the typical distance formula from geometry $d = \\sqrt{((x_e - x_s)^2 + (y_e - y_s)^2 + (z_e - z_s)^2}$, but in this case, we'll use the colors as coordinates."
   ]
  },
  {
   "cell_type": "code",
   "execution_count": 126,
   "id": "76362bb5-eac9-4f36-8bcb-f62e795ec61d",
   "metadata": {},
   "outputs": [],
   "source": [
    "def computeColorDistance(imageData, rgbTargetColor):\n",
    "    rVal, gVal, bVal = rgbTargetColor     # break the targetColor up into it's red, gree, and blue values\n",
    "    rCh = imageData[:,:,0]                # separate the red channel from the image. (m,n) of 'uint8'.\n",
    "    gCh = imageData[:,:,1]                #              green\n",
    "    bCh = imageData[:,:,2]                #              blue\n",
    "    rDist = (rCh - rVal)/255.             # compute the \"red distance\" and normalize to one.  (m,n) of 'float' in [0, 1]\n",
    "    gDist = (gCh - gVal)/255.             #             \"green distance\" \n",
    "    bDist = (bCh - bVal)/255.             #             \"blue distance\" \n",
    "                                          # Compute the normalized distance.  (m, n) 'float' in [0, 1]\n",
    "    colorDist = ((rDist**2 + gDist**2 + bDist**2)**0.5) / ((3)**0.5)\n",
    "    return colorDist"
   ]
  },
  {
   "cell_type": "code",
   "execution_count": 123,
   "id": "9c9f46fb-b8ea-4ad9-918d-9fe74faa0d98",
   "metadata": {},
   "outputs": [
    {
     "data": {
      "text/plain": [
       "array([[0.00392157]])"
      ]
     },
     "execution_count": 123,
     "metadata": {},
     "output_type": "execute_result"
    }
   ],
   "source": [
    "testImageData1 = np.array([[[0, 0, 0]]], 'uint8')\n",
    "computeColorDistance(testImageData1, [255, 255, 255])"
   ]
  },
  {
   "cell_type": "code",
   "execution_count": 112,
   "id": "3cced32f-cc85-4a92-a8a4-8b5f52df7dba",
   "metadata": {},
   "outputs": [],
   "source": []
  },
  {
   "cell_type": "code",
   "execution_count": 113,
   "id": "fdd77a9c-486e-4b43-9483-f7f14fdf650a",
   "metadata": {},
   "outputs": [],
   "source": [
    "lum = np.clip(colorDist*256, 0, 255).astype('uint8')\n",
    "rgbData = np.dstack((lum, lum, lum))"
   ]
  },
  {
   "cell_type": "code",
   "execution_count": 114,
   "id": "1b8fddb2-7ac1-49ca-82c4-a2ec578bdff9",
   "metadata": {},
   "outputs": [
    {
     "data": {
      "text/plain": [
       "array([[[209, 209, 209],\n",
       "        [209, 209, 209],\n",
       "        [209, 209, 209],\n",
       "        ...,\n",
       "        [209, 209, 209],\n",
       "        [209, 209, 209],\n",
       "        [147, 147, 147]],\n",
       "\n",
       "       [[209, 209, 209],\n",
       "        [209, 209, 209],\n",
       "        [209, 209, 209],\n",
       "        ...,\n",
       "        [209, 209, 209],\n",
       "        [209, 209, 209],\n",
       "        [147, 147, 147]],\n",
       "\n",
       "       [[209, 209, 209],\n",
       "        [209, 209, 209],\n",
       "        [209, 209, 209],\n",
       "        ...,\n",
       "        [209, 209, 209],\n",
       "        [209, 209, 209],\n",
       "        [147, 147, 147]],\n",
       "\n",
       "       ...,\n",
       "\n",
       "       [[147, 147, 147],\n",
       "        [147, 147, 147],\n",
       "        [147, 147, 147],\n",
       "        ...,\n",
       "        [209, 209, 209],\n",
       "        [209, 209, 209],\n",
       "        [147, 147, 147]],\n",
       "\n",
       "       [[147, 147, 147],\n",
       "        [147, 147, 147],\n",
       "        [147, 147, 147],\n",
       "        ...,\n",
       "        [209, 209, 209],\n",
       "        [209, 209, 209],\n",
       "        [147, 147, 147]],\n",
       "\n",
       "       [[147, 147, 147],\n",
       "        [147, 147, 147],\n",
       "        [147, 147, 147],\n",
       "        ...,\n",
       "        [147, 147, 147],\n",
       "        [147, 147, 147],\n",
       "        [147, 147, 147]]], dtype=uint8)"
      ]
     },
     "execution_count": 114,
     "metadata": {},
     "output_type": "execute_result"
    }
   ],
   "source": [
    "rgbData"
   ]
  },
  {
   "cell_type": "code",
   "execution_count": 110,
   "id": "1f133fee-9d8d-4a37-a590-08847c7bad93",
   "metadata": {},
   "outputs": [
    {
     "data": {
      "image/png": "[encoded data removed]",
      "text/plain": [
       "<PIL.Image.Image image mode=RGB size=200x150 at 0x28D07D81370>"
      ]
     },
     "execution_count": 110,
     "metadata": {},
     "output_type": "execute_result"
    }
   ],
   "source": [
    "Image.fromarray(rgbData)"
   ]
  },
  {
   "cell_type": "markdown",
   "id": "6905cc46-38e8-4c92-89e3-2868b00167ac",
   "metadata": {},
   "source": [
    "We begin by creating a `camera` object."
   ]
  },
  {
   "cell_type": "code",
   "execution_count": null,
   "id": "2b4645d3-ccd6-494f-a2df-930b92bc9c2e",
   "metadata": {},
   "outputs": [],
   "source": []
  },
  {
   "cell_type": "markdown",
   "id": "d05e842e-fd33-496b-a1a5-d1a52af9ed95",
   "metadata": {},
   "source": [
    "We can change various properties of the camera such as the resolution and frame rate."
   ]
  },
  {
   "cell_type": "code",
   "execution_count": null,
   "id": "d285604b-a6b1-4a20-88f2-f0cf53667671",
   "metadata": {},
   "outputs": [],
   "source": []
  },
  {
   "cell_type": "markdown",
   "id": "4db28b0f-2cdb-4811-832f-5411d2f8d026",
   "metadata": {},
   "source": [
    "We need a place to put the data.  A Numpy array is particularly well suited for this because it is a dense array.  If it is the proper shape andhe data can be directly transThe numpy array must match the size of the incoming array exactly, or else weird things happen.  Note that this is a color camera, so each pixel has an RGB (Red, Green, Blue) value."
   ]
  },
  {
   "cell_type": "code",
   "execution_count": 9,
   "id": "39f3bf90-d464-4ce4-a2f2-9d5009db92d6",
   "metadata": {},
   "outputs": [],
   "source": [
    "dataholder = np.zeros(shape=(10,8,3), dtype=np.uint8)"
   ]
  },
  {
   "cell_type": "code",
   "execution_count": null,
   "id": "8bddc5df-981a-4f90-9602-e62d071fd120",
   "metadata": {},
   "outputs": [],
   "source": []
  }
 ],
 "metadata": {
  "kernelspec": {
   "display_name": "Python 3",
   "language": "python",
   "name": "python3"
  },
  "language_info": {
   "codemirror_mode": {
    "name": "ipython",
    "version": 3
   },
   "file_extension": ".py",
   "mimetype": "text/x-python",
   "name": "python",
   "nbconvert_exporter": "python",
   "pygments_lexer": "ipython3",
   "version": "3.8.8"
  }
 },
 "nbformat": 4,
 "nbformat_minor": 5
}
